{
 "cells": [
  {
   "cell_type": "code",
   "execution_count": 2,
   "metadata": {},
   "outputs": [
    {
     "name": "stderr",
     "output_type": "stream",
     "text": [
      "/Users/gavinxue/Library/Python/3.9/lib/python/site-packages/urllib3/__init__.py:34: NotOpenSSLWarning: urllib3 v2 only supports OpenSSL 1.1.1+, currently the 'ssl' module is compiled with 'LibreSSL 2.8.3'. See: https://github.com/urllib3/urllib3/issues/3020\n",
      "  warnings.warn(\n"
     ]
    }
   ],
   "source": [
    "import numpy as np\n",
    "import tensorflow as tf\n",
    "import cv2"
   ]
  },
  {
   "cell_type": "code",
   "execution_count": 3,
   "metadata": {},
   "outputs": [
    {
     "name": "stderr",
     "output_type": "stream",
     "text": [
      "2024-01-14 00:47:14.302 Python[82216:20823162] WARNING: AVCaptureDeviceTypeExternal is deprecated for Continuity Cameras. Please use AVCaptureDeviceTypeContinuityCamera and add NSCameraUseContinuityCameraDeviceType to your Info.plist.\n"
     ]
    },
    {
     "name": "stdout",
     "output_type": "stream",
     "text": [
      "WARNING:tensorflow:From /var/folders/v9/22hd8vh13rl1n0dqbfsly1v40000gn/T/ipykernel_82216/1549707274.py:18: load (from tensorflow.python.saved_model.loader_impl) is deprecated and will be removed in a future version.\n",
      "Instructions for updating:\n",
      "Use `tf.saved_model.load` instead.\n",
      "INFO:tensorflow:Saver not created because there are no variables in the graph to restore\n",
      "INFO:tensorflow:The specified SavedModel has no variables; no checkpoints were restored.\n"
     ]
    },
    {
     "name": "stderr",
     "output_type": "stream",
     "text": [
      "2024-01-14 00:47:16.005390: I tensorflow/compiler/mlir/mlir_graph_optimization_pass.cc:388] MLIR V1 optimization pass is not enabled\n",
      "2024-01-14 00:47:16.655 Python[82216:20823162] WARNING: Secure coding is automatically enabled for restorable state! However, not on all supported macOS versions of this application. Opt-in to secure coding explicitly by implementing NSApplicationDelegate.applicationSupportsSecureRestorableState:.\n"
     ]
    },
    {
     "ename": "",
     "evalue": "",
     "output_type": "error",
     "traceback": [
      "\u001b[1;31mThe Kernel crashed while executing code in the the current cell or a previous cell. Please review the code in the cell(s) to identify a possible cause of the failure. Click <a href='https://aka.ms/vscodeJupyterKernelCrash'>here</a> for more info. View Jupyter <a href='command:jupyter.viewOutput'>log</a> for further details."
     ]
    }
   ],
   "source": [
    "cap = cv2.VideoCapture(1)\n",
    "\n",
    "# Display frame that is inputted to model and frame with detections\n",
    "cv2.namedWindow(\"Detection frame\", cv2.WINDOW_AUTOSIZE)\n",
    "\n",
    "# Threshold value [0.0, 1.0] \n",
    "detection_threshold = 0.1\n",
    "\n",
    "# Conversion vector from bounding box coordinate to display frame coordinate\n",
    "frame_height = cap.get(cv2.CAP_PROP_FRAME_HEIGHT)\n",
    "frame_width = cap.get(cv2.CAP_PROP_FRAME_WIDTH)\n",
    "bbox_coord_conversion = np.array([frame_height,frame_width,frame_height,frame_width])\n",
    "\n",
    "saved_model_dir = './saved_model_face/'\n",
    "\n",
    "with tf.compat.v1.Session() as sess:\n",
    "    # Load model from saved_model directory\n",
    "    metagraph = tf.compat.v1.saved_model.load(sess, [tf.compat.v1.saved_model.tag_constants.SERVING], saved_model_dir)\n",
    "\n",
    "    # Get input and output tensors to dictionary format\n",
    "    input_dict = dict(metagraph.signature_def['serving_default'].inputs)\n",
    "    output_dict = dict(metagraph.signature_def['serving_default'].outputs)\n",
    "\n",
    "    # Get input and output tensors\n",
    "    input_tensor = sess.graph.get_tensor_by_name(input_dict['inputs'].name)\n",
    "    bounding_boxes = sess.graph.get_tensor_by_name(output_dict['detection_boxes'].name)\n",
    "    box_scores = sess.graph.get_tensor_by_name(output_dict['detection_scores'].name)\n",
    "\n",
    "    while True:\n",
    "        ret, frame = cap.read()\n",
    "        if not ret:\n",
    "            break\n",
    "\n",
    "        # Retrieve bounding boxes and their scores, no class since only 1 class: face\n",
    "        [boxes, scores] = sess.run([bounding_boxes, box_scores],\n",
    "                                   feed_dict={input_tensor: np.expand_dims(frame, axis=0)})\n",
    "        \n",
    "        # Only select bounding boxes above threshold value\n",
    "        detections = boxes[scores > detection_threshold]\n",
    "\n",
    "        # Perform bounding box conversion and display box on frame\n",
    "        for face in detections:\n",
    "            bbox_coord = (face * bbox_coord_conversion).astype(int)\n",
    "            cv2.rectangle(frame, (bbox_coord[1], bbox_coord[0]), (bbox_coord[3], bbox_coord[2]), (0, 255, 0), 2)\n",
    "\n",
    "        cv2.imshow(\"Detection frame\", frame)\n",
    "\n",
    "        # Exit program with 'q' key\n",
    "        key = cv2.waitKey(1) & 0xff\n",
    "        if key == ord('q'):\n",
    "            cv2.destroyAllWindows()\n",
    "            break"
   ]
  }
 ],
 "metadata": {
  "kernelspec": {
   "display_name": "Python 3",
   "language": "python",
   "name": "python3"
  },
  "language_info": {
   "codemirror_mode": {
    "name": "ipython",
    "version": 3
   },
   "file_extension": ".py",
   "mimetype": "text/x-python",
   "name": "python",
   "nbconvert_exporter": "python",
   "pygments_lexer": "ipython3",
   "version": "3.9.6"
  }
 },
 "nbformat": 4,
 "nbformat_minor": 2
}
